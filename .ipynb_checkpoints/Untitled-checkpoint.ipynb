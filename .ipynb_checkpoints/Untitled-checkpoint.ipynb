{
 "cells": [
  {
   "cell_type": "code",
   "execution_count": 18,
   "metadata": {
    "collapsed": false
   },
   "outputs": [],
   "source": [
    "import csv\n",
    "import rdflib\n",
    "from rdflib import Graph, Namespace, URIRef, BNode, Literal\n",
    "from rdflib.namespace import RDF, FOAF, RDFS, OWL\n",
    "\n",
    "g = Graph()\n",
    "n = Namespace(\"http://example.org/BoozePedia/\")\n",
    "BoozeFile = open('cleanedData.csv')\n",
    "\n",
    "# BoozeReader = csv.reader(BoozeFile, quotechar='\"', delimiter='|',\n",
    "#                      quoting=csv.QUOTE_MINIMAL, skipinitialspace=True)\n",
    "# BoozeData = list(BoozeReader)\n",
    "# print BoozeData[833]\n",
    "\n",
    "\n",
    "# g.add( (cocktails, RDFS.type, FOAF.) )\n",
    "\n",
    "# for x in range(len(BoozeData)):\n",
    "#     if BoozeData[x][1]:\n",
    "#         print BoozeData[x][1]\n",
    "    \n",
    "# for row in BoozeReader:\n",
    "#     print \"hoi\"\n",
    "#     print row\n",
    "\n",
    "# g.add\n",
    "\n",
    "g.add((n.hasIngredient, RDF.type, OWL.ObjectProperty))\n",
    "g.add((n.hasRecipe, RDF.type, OWL.DatatypeProperty))\n",
    "g.add((n.hasPicture, RDF.type, OWL.DatatypeProperty))\n",
    "\n",
    "\n",
    "for l in  csv.reader(BoozeFile, quotechar='\"', delimiter='|',\n",
    "                     quoting=csv.QUOTE_MINIMAL, skipinitialspace=True):\n",
    "        try:\n",
    "            namespace = \"http://example.org/BoozePedia/\" + l[1].replace(\" \", \"\").replace(\"#\", \"Number\").replace(\"*\", \"\").replace(\"/\", \"\")\n",
    "            categoryNamespace = \"http://example.org/BoozePedia/\" + l[2].replace(\" \", \"\").replace(\"#\", \"Number\").replace(\"*\", \"\").replace(\"/\", \"\")\n",
    "            name = URIRef(namespace)\n",
    "            g.add( (URIRef(namespace), RDF.type, URIRef(categoryNamespace)) )\n",
    "            g.add( (URIRef(categoryNamespace), RDFS.subClassOf, n.Drinks)) \n",
    "            g.add((URIRef(namespace), RDFS.label, Literal(l[1])))\n",
    "            if l[4]:\n",
    "                g.add((name, n.hasRecipe, Literal(l[4])))\n",
    "            if l[5]:\n",
    "                g.add((name, n.hasPicture, Literal(l[5])))\n",
    "            for x in range(6, 22):\n",
    "                if l[x] and l[x] != \";;\":\n",
    "                    ingredientNamespace = \"http://example.org/BoozePedia/\" + l[x].replace(\" \", \"\").replace(\"#\", \"Number\").replace(\"*\", \"\").replace(\"/\", \"\")\n",
    "                    #print ingredientNamespace\n",
    "                    #print URIRef(l[6].replace(\" \", \"\"))\n",
    "                    g.add((URIRef(ingredientNamespace), RDF.type, n.Ingredient))\n",
    "                    g.add((name, n.hasIngredient, URIRef(ingredientNamespace)))\n",
    "\n",
    "        except:\n",
    "            pass\n",
    "\n",
    "    \n",
    "g.serialize(destination='output.ttl', format='turtle')"
   ]
  },
  {
   "cell_type": "code",
   "execution_count": null,
   "metadata": {
    "collapsed": true
   },
   "outputs": [],
   "source": []
  }
 ],
 "metadata": {
  "kernelspec": {
   "display_name": "Python 2",
   "language": "python",
   "name": "python2"
  },
  "language_info": {
   "codemirror_mode": {
    "name": "ipython",
    "version": 2
   },
   "file_extension": ".py",
   "mimetype": "text/x-python",
   "name": "python",
   "nbconvert_exporter": "python",
   "pygments_lexer": "ipython2",
   "version": "2.7.12"
  }
 },
 "nbformat": 4,
 "nbformat_minor": 0
}
